{
 "cells": [
  {
   "cell_type": "code",
   "execution_count": 10,
   "id": "b3652a13-a497-4815-a8a7-dff67936c437",
   "metadata": {},
   "outputs": [
    {
     "name": "stdout",
     "output_type": "stream",
     "text": [
      "true\n"
     ]
    }
   ],
   "source": [
    "#1. Given an array, check if it contains any duplicates or not.\n",
    "#time complex O(n^2)\n",
    "#space complezxity O(1)\n",
    "\n",
    "class Solution:  \n",
    "    def solution(self, list1):  \n",
    "        for i in range(len(list1)):  \n",
    "            for j in range(0, i):  \n",
    "                if list1[i] == list1[j]:  \n",
    "                    return 'true'  \n",
    "        return 'false'  \n",
    "    \n",
    "    \n",
    "#driver code\n",
    "obj = Solution()                 \n",
    "list1 = [1,2,4,2,5,9]  \n",
    "print(obj.solution(list1))  "
   ]
  },
  {
   "cell_type": "code",
   "execution_count": 28,
   "id": "42d7cae0-dc3c-420a-98c0-0c044b05b85b",
   "metadata": {},
   "outputs": [
    {
     "name": "stdout",
     "output_type": "stream",
     "text": [
      "5 6 7 1 2 3 4 "
     ]
    }
   ],
   "source": [
    "#2. Given an array and an integer k, rotate the array to the right by k steps.\n",
    "#function for right rotation\n",
    "#time complexity: O(n)\n",
    "#space complexity: O(n)\n",
    "def RightRotate(a, n, k):\n",
    "    k = k % n #rotation greater then the size of array\n",
    "    for i in range(0, n):\n",
    "        if(i < k):  #Printing rightmost kth elemen\n",
    "            print(a[n + i - k], end = \" \")\n",
    "        else:  #Prints array after 'k' elements\n",
    "            print(a[i - k], end = \" \")          \n",
    "#Driver code\n",
    "\n",
    "Array = [1,2,3,4,5,6,7]\n",
    "n = len(Array)\n",
    "k = 3\n",
    "RightRotate(Array, n, k)"
   ]
  },
  {
   "cell_type": "code",
   "execution_count": 3,
   "id": "246194bb-bb16-4e77-84d5-454113cd3133",
   "metadata": {},
   "outputs": [
    {
     "name": "stdout",
     "output_type": "stream",
     "text": [
      "[2, 4, 5, 7, 9, 12]\n",
      "Reversed Array is\n",
      "[12, 9, 7, 5, 4, 2]\n"
     ]
    }
   ],
   "source": [
    "#3 Reverse the given array in-place, means without using any extra data structure.\n",
    "#Time Complexity: O(n)\n",
    "#SpaceComplexity: O(n)  \n",
    "# Function to reverse A[] from start to end \n",
    "def reverseList(A, start, end): \n",
    "    if start >= end: \n",
    "        return\n",
    "    A[start], A[end] = A[end], A[start] \n",
    "    reverseList(A, start+1, end-1) \n",
    "#Driver code\n",
    "A = [2,4,5,7,9,12] \n",
    "print(A) \n",
    "reverseList(A, 0, 5) \n",
    "print(\"Reversed Array is\") \n",
    "print(A)  "
   ]
  },
  {
   "cell_type": "code",
   "execution_count": 6,
   "id": "f435d284-205c-43c7-a7b1-45bc0e41ad73",
   "metadata": {},
   "outputs": [
    {
     "name": "stdout",
     "output_type": "stream",
     "text": [
      "largest Element is: 20\n"
     ]
    }
   ],
   "source": [
    "#4 Given an array of integers, find the maximum element in an array\n",
    "#Time complexity: O(N)\n",
    "#SpaceComplexity: O(1) \n",
    "def largest(arr, n):\n",
    "    return max(arr)\n",
    "#Driver code\n",
    "if __name__ == '__main__':\n",
    "    arr = [10, 5,20,8,15]\n",
    "    n = len(arr)\n",
    "     \n",
    "    # Function call\n",
    "    print(\"largest Element is:\",largest(arr, n))\n"
   ]
  },
  {
   "cell_type": "code",
   "execution_count": 1,
   "id": "4be4d57f-3071-47d9-9826-2b95fa2b6e3c",
   "metadata": {},
   "outputs": [
    {
     "name": "stdout",
     "output_type": "stream",
     "text": [
      "1 2 3 4 5 "
     ]
    }
   ],
   "source": [
    "#5 Given a sorted array, remove the duplicate element without using any extra data structure.\n",
    "#Time Complexity: O(N) \n",
    "#SpaceComplexity: O(1)\n",
    "def remove_duplicates(arr):\n",
    "    n = len(arr)\n",
    "    if n == 0 or n == 1:\n",
    "        return n\n",
    " \n",
    "    # To store index of next unique element\n",
    "    j = 0\n",
    " \n",
    "    # Doing same as done in Method 1\n",
    "    # Just maintaining another updated index i.e. j\n",
    "    for i in range(n - 1):\n",
    "        if arr[i] != arr[i + 1]:\n",
    "            arr[j] = arr[i]\n",
    "            j += 1\n",
    " \n",
    "    arr[j] = arr[n - 1]\n",
    " \n",
    "    return j + 1\n",
    " \n",
    " #Driver code\n",
    "if __name__ == \"__main__\":\n",
    "    arr = [1, 2, 2,2,2,3, 3, 4, 4, 4, 5, 5]\n",
    "    n = len(arr)\n",
    " \n",
    "    # remove_duplicates() returns new size of array.\n",
    "    n = remove_duplicates(arr)\n",
    " \n",
    "    # Print updated array\n",
    "    for i in range(n):\n",
    "        print(arr[i], end=\" \")"
   ]
  },
  {
   "cell_type": "code",
   "execution_count": null,
   "id": "fd6dac93-c5c2-4587-943f-11348b38a382",
   "metadata": {},
   "outputs": [],
   "source": []
  }
 ],
 "metadata": {
  "kernelspec": {
   "display_name": "Python 3 (ipykernel)",
   "language": "python",
   "name": "python3"
  },
  "language_info": {
   "codemirror_mode": {
    "name": "ipython",
    "version": 3
   },
   "file_extension": ".py",
   "mimetype": "text/x-python",
   "name": "python",
   "nbconvert_exporter": "python",
   "pygments_lexer": "ipython3",
   "version": "3.10.8"
  }
 },
 "nbformat": 4,
 "nbformat_minor": 5
}
